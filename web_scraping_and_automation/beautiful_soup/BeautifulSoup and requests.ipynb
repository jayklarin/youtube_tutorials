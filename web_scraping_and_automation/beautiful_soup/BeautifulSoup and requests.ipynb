{
 "cells": [
  {
   "cell_type": "code",
   "execution_count": 1,
   "metadata": {},
   "outputs": [],
   "source": [
    "# YouTube Link:\n",
    "\n",
    "# Ensure that you have both beautifulsoup and requests installed:\n",
    "#   pip install beautifulsoup4\n",
    "#   pip install requests\n",
    "\n",
    "import requests\n",
    "from bs4 import BeautifulSoup"
   ]
  },
  {
   "cell_type": "code",
   "execution_count": 2,
   "metadata": {},
   "outputs": [
    {
     "name": "stdout",
     "output_type": "stream",
     "text": [
      "200\n"
     ]
    }
   ],
   "source": [
    "# Using the requests module, we use the \"get\" function provided to access the webpage provided as an argument to this function:\n",
    "result = requests.get(\"https://www.google.com/\")\n",
    "\n",
    "# Make sure that the website is accessible, we can ensure that we obtain a 200 OK response \n",
    "#to indicate that the page is indeed present:\n",
    "print(result.status_code)\n"
   ]
  },
  {
   "cell_type": "code",
   "execution_count": 3,
   "metadata": {},
   "outputs": [
    {
     "name": "stdout",
     "output_type": "stream",
     "text": [
      "{'Date': 'Sun, 21 Apr 2019 12:20:18 GMT', 'Expires': '-1', 'Cache-Control': 'private, max-age=0', 'Content-Type': 'text/html; charset=ISO-8859-1', 'P3P': 'CP=\"This is not a P3P policy! See g.co/p3phelp for more info.\"', 'Content-Encoding': 'gzip', 'Server': 'gws', 'X-XSS-Protection': '0', 'X-Frame-Options': 'SAMEORIGIN', 'Set-Cookie': '1P_JAR=2019-04-21-12; expires=Tue, 21-May-2019 12:20:18 GMT; path=/; domain=.google.com, NID=181=kqxLLmeA4snhkG2-jg-OJEssgDqtXRqdMLcP881xrz13MudtbpYy8xVELenNz1X_5EfEWPiQAbPhZOhVRZM7sD8kJuvHezL-GDm9-xMSLB8l_HWRucJj1ThjMFUkXBFNeXxWC3StK6Rgoi-yTMAdSN0YM0vOReLoyFpW_aVjdqY; expires=Mon, 21-Oct-2019 12:20:18 GMT; path=/; domain=.google.com; HttpOnly', 'Alt-Svc': 'quic=\":443\"; ma=2592000; v=\"46,44,43,39\"', 'Transfer-Encoding': 'chunked'}\n"
     ]
    }
   ],
   "source": [
    "# For other potential status codes you may encounter, consult the following Wikipedia page:\n",
    "# https://en.wikipedia.org/wiki/List_of_HTTP_status_codes\n",
    "\n",
    "# We can also check the HTTP header of the website to verify that we have indeed accessed the correct page:\n",
    "print(result.headers)"
   ]
  },
  {
   "cell_type": "code",
   "execution_count": 4,
   "metadata": {},
   "outputs": [
    {
     "name": "stdout",
     "output_type": "stream",
     "text": [
      "[<a class=\"gb1\" href=\"https://www.google.co.il/imghp?hl=iw&amp;tab=wi\">חיפוש תמונות</a>, <a class=\"gb1\" href=\"https://maps.google.co.il/maps?hl=iw&amp;tab=wl\">מפות</a>, <a class=\"gb1\" href=\"https://www.youtube.com/?gl=IL&amp;tab=w1\">YouTube</a>, <a class=\"gb1\" href=\"https://news.google.co.il/nwshp?hl=iw&amp;tab=wn\">חדשות</a>, <a class=\"gb1\" href=\"https://mail.google.com/mail/?tab=wm\">Gmail</a>, <a class=\"gb1\" href=\"https://drive.google.com/?tab=wo\">Drive</a>, <a class=\"gb1\" href=\"https://www.google.com/calendar?tab=wc\">יומן</a>, <a class=\"gb1\" href=\"https://www.google.co.il/intl/iw/about/products?tab=wh\" style=\"text-decoration:none\"><u>עוד</u> »</a>, <a class=\"gb4\" href=\"http://www.google.co.il/history/optout?hl=iw\">היסטוריית אתרים</a>, <a class=\"gb4\" href=\"/preferences?hl=iw\">הגדרות</a>, <a class=\"gb4\" href=\"https://accounts.google.com/ServiceLogin?hl=iw&amp;passive=true&amp;continue=https://www.google.com/\" id=\"gb_70\" target=\"_top\">כניסה</a>, <a href=\"/advanced_search?hl=iw&amp;authuser=0\">חיפוש מתקדם</a>, <a href=\"/language_tools?hl=iw&amp;authuser=0\">כלי שפה</a>, <a href=\"https://www.google.com/setprefs?sig=0_shsATdWB3BEg0i8VI4dnKaQ1bGo%3D&amp;hl=ar&amp;source=homepage&amp;sa=X&amp;ved=0ahUKEwiGqouAluHhAhURjqQKHQ-nD2YQ2ZgBCAU\">العربية</a>, <a dir=\"ltr\" href=\"https://www.google.com/setprefs?sig=0_shsATdWB3BEg0i8VI4dnKaQ1bGo%3D&amp;hl=en&amp;source=homepage&amp;sa=X&amp;ved=0ahUKEwiGqouAluHhAhURjqQKHQ-nD2YQ2ZgBCAY\">English</a>, <a href=\"/intl/iw/ads/\"> פרסום ב-Google</a>, <a href=\"http://www.google.co.il/intl/iw/services/\">פתרונות עסקיים</a>, <a href=\"/intl/iw/about.html\">הכל על Google</a>, <a dir=\"ltr\" href=\"https://www.google.com/setprefdomain?prefdom=IL&amp;prev=https://www.google.co.il/&amp;sig=K_CugbAHsVv5fwF6fnFMRhBuDsd5s%3D\">Google.co.il</a>, <a href=\"/intl/iw/policies/privacy/\">פרטיות</a>, <a href=\"/intl/iw/policies/terms/\">תנאים</a>]\n",
      "\n",
      "\n"
     ]
    }
   ],
   "source": [
    "# For more information on HTTP headers and the information one can obtain from them, you may consult:\n",
    "# https://en.wikipedia.org/wiki/List_of_HTTP_header_fields\n",
    "\n",
    "# Now, let us store the page content of the website accessed from requests to a variable:\n",
    "src = result.content\n",
    "\n",
    "# Now that we have the page source stored, we will use the\n",
    "# BeautifulSoup module to parse and process the source.\n",
    "# To do so, we create a BeautifulSoup object based on the\n",
    "# source variable we created above:\n",
    "soup = BeautifulSoup(src, 'lxml')\n",
    "\n",
    "# Now that the page source has been processed via Beautifulsoup\n",
    "# we can access specific information directly from it. For instance,\n",
    "# say we want to see a list of all of the links on the page:\n",
    "links = soup.find_all(\"a\")\n",
    "print(links)\n",
    "print(\"\\n\")\n"
   ]
  },
  {
   "cell_type": "code",
   "execution_count": 8,
   "metadata": {},
   "outputs": [
    {
     "name": "stdout",
     "output_type": "stream",
     "text": [
      "<a href=\"/intl/iw/ads/\"> פרסום ב-Google</a>\n",
      "/intl/iw/ads/\n",
      "<a href=\"/intl/iw/about.html\">הכל על Google</a>\n",
      "/intl/iw/about.html\n",
      "<a dir=\"ltr\" href=\"https://www.google.com/setprefdomain?prefdom=IL&amp;prev=https://www.google.co.il/&amp;sig=K_CugbAHsVv5fwF6fnFMRhBuDsd5s%3D\">Google.co.il</a>\n",
      "https://www.google.com/setprefdomain?prefdom=IL&prev=https://www.google.co.il/&sig=K_CugbAHsVv5fwF6fnFMRhBuDsd5s%3D\n"
     ]
    }
   ],
   "source": [
    "\n",
    "# Perhaps we just want to extract the link that has contains the text\n",
    "# \"About\" on the page instead of every link. We can use the built-in\n",
    "# \"text\" function to access the text content between the <a> </a>\n",
    "# tags.\n",
    "for link in links:\n",
    "    if \"Google\" in link.text:\n",
    "        print(link)\n",
    "        print(link.attrs['href'])"
   ]
  },
  {
   "cell_type": "code",
   "execution_count": null,
   "metadata": {},
   "outputs": [],
   "source": []
  }
 ],
 "metadata": {
  "kernelspec": {
   "display_name": "Python 3",
   "language": "python",
   "name": "python3"
  },
  "language_info": {
   "codemirror_mode": {
    "name": "ipython",
    "version": 3
   },
   "file_extension": ".py",
   "mimetype": "text/x-python",
   "name": "python",
   "nbconvert_exporter": "python",
   "pygments_lexer": "ipython3",
   "version": "3.7.1"
  }
 },
 "nbformat": 4,
 "nbformat_minor": 2
}
