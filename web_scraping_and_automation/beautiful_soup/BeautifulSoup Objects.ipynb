{
 "cells": [
  {
   "cell_type": "code",
   "execution_count": 2,
   "metadata": {},
   "outputs": [],
   "source": [
    "# YouTube Link: https://www.youtube.com/watch?v=oDtLJEc5Ako\n",
    "from bs4 import BeautifulSoup\n",
    "\n",
    "# To keep things simple and also reproducible, consider the following HTML code\n",
    "html_doc = \"\"\"\n",
    "<html><head><title>The Dormouse's story</title></head>\n",
    "<body>\n",
    "<p class=\"title\"><b>The Dormouse's story</b></p>\n",
    "\n",
    "<p class=\"story\">Once upon a time there were three little sisters; their names:\n",
    "<a href=\"http://example.com/elsie\" class=\"sister\" id=\"link1\">Elsie</a>,\n",
    "<a href=\"http://example.com/lacie\" class=\"sister\" id=\"link2\">Lacie</a> and\n",
    "<a href=\"http://example.com/tillie\" class=\"sister\" id=\"link3\">Tillie</a>;\n",
    "and they lived at the bottom of a well.</p>\n",
    "\n",
    "<p class=\"story\">...</p>\n",
    "\n",
    "<b class=\"boldest\">Extremely bold</b>\n",
    "<blockquote class=\"boldest\">Extremely bold</blockquote>\n",
    "<b id=\"1\">Test 1</b>\n",
    "<b another-attribute=\"1\" id=\"verybold\">Test 2</b>\n",
    "\"\"\""
   ]
  },
  {
   "cell_type": "code",
   "execution_count": 3,
   "metadata": {},
   "outputs": [
    {
     "name": "stdout",
     "output_type": "stream",
     "text": [
      "<html><head><title>The Dormouse's story</title></head>\n",
      "<body>\n",
      "<p class=\"title\"><b>The Dormouse's story</b></p>\n",
      "<p class=\"story\">Once upon a time there were three little sisters; their names:\n",
      "<a class=\"sister\" href=\"http://example.com/elsie\" id=\"link1\">Elsie</a>,\n",
      "<a class=\"sister\" href=\"http://example.com/lacie\" id=\"link2\">Lacie</a> and\n",
      "<a class=\"sister\" href=\"http://example.com/tillie\" id=\"link3\">Tillie</a>;\n",
      "and they lived at the bottom of a well.</p>\n",
      "<p class=\"story\">...</p>\n",
      "<b class=\"boldest\">Extremely bold</b>\n",
      "<blockquote class=\"boldest\">Extremely bold</blockquote>\n",
      "<b id=\"1\">Test 1</b>\n",
      "<b another-attribute=\"1\" id=\"verybold\">Test 2</b>\n",
      "</body></html>\n"
     ]
    }
   ],
   "source": [
    "with open('index.html', 'w') as f:\n",
    "    f.write(html_doc)\n",
    "\n",
    "soup = BeautifulSoup(html_doc, \"lxml\")\n",
    "\n",
    "#print(soup.prettify())  # for broad structureor\n",
    "print(soup)             # for condenced structure"
   ]
  },
  {
   "cell_type": "markdown",
   "metadata": {},
   "source": [
    "## Tag:"
   ]
  },
  {
   "cell_type": "code",
   "execution_count": 4,
   "metadata": {},
   "outputs": [
    {
     "name": "stdout",
     "output_type": "stream",
     "text": [
      "<b>The Dormouse's story</b>\n",
      "<b>The Dormouse's story</b>\n",
      "[<b>The Dormouse's story</b>, <b class=\"boldest\">Extremely bold</b>, <b id=\"1\">Test 1</b>, <b another-attribute=\"1\" id=\"verybold\">Test 2</b>]\n",
      "b\n"
     ]
    }
   ],
   "source": [
    "print(soup.b)              # Finds the first occurrence of usage for a \"b\" bold tag.\n",
    "print(soup.find('b'))      # The \"find\" function also does the same, where it only finds the \n",
    "                           #FIRST occurrence in the HTML doc of a tag with \"b\".\n",
    "\n",
    "print(soup.find_all('b'))  # If we want to find all of the elements on the page with the \"b\" tag, we can use the \n",
    "                           #\"find_all\" function.\n",
    "    \n",
    "print(soup.b.name)         # NAME: This gives the name of the tag. In this case, the tag name is \"b\"."
   ]
  },
  {
   "cell_type": "markdown",
   "metadata": {},
   "source": [
    "## We can alter the name and have that reflected in the source. For instance:"
   ]
  },
  {
   "cell_type": "code",
   "execution_count": 5,
   "metadata": {},
   "outputs": [
    {
     "name": "stdout",
     "output_type": "stream",
     "text": [
      "<b>The Dormouse's story</b>\n",
      "<blockquote>The Dormouse's story</blockquote>\n"
     ]
    }
   ],
   "source": [
    "tag = soup.b              \n",
    "print(tag)\n",
    "tag.name = \"blockquote\"    # An arbitrary name I have assigned to the 'b' tag\n",
    "print(tag)"
   ]
  },
  {
   "cell_type": "markdown",
   "metadata": {},
   "source": [
    "## Attributes:"
   ]
  },
  {
   "cell_type": "code",
   "execution_count": 6,
   "metadata": {},
   "outputs": [
    {
     "name": "stdout",
     "output_type": "stream",
     "text": [
      "<b another-attribute=\"1\" id=\"verybold\">Test 2</b>\n"
     ]
    }
   ],
   "source": [
    "tag=soup.find_all('b')[2]  # My index is 1 smaller than his in the video at time index 27:04\n",
    "print(tag)\n",
    "\n",
    "#print(tag['id'])           # This specific tag has the attribute \"id\", which can be accessed like so:\n",
    "\n",
    "#tag=soup.find_all('b')[3]  # I understand why I get an error, but I don't understand why he doesn't get\n",
    "#print(tag)                 #in the video at time index 27:00-30:00"
   ]
  },
  {
   "cell_type": "markdown",
   "metadata": {},
   "source": [
    "## We can even access multiple attributes that are non-standard HTML attributes:"
   ]
  },
  {
   "cell_type": "code",
   "execution_count": 7,
   "metadata": {},
   "outputs": [
    {
     "name": "stdout",
     "output_type": "stream",
     "text": [
      "id verybold\n",
      "another-attribute 1\n",
      "<b another-attribute=\"1\" id=\"verybold\">Test 2</b>\n",
      "{'another-attribute': '1', 'id': 'verybold'}\n",
      "<b another-attribute=\"1\" id=\"verybold\">Test 2</b>\n"
     ]
    }
   ],
   "source": [
    "print(\"id\", tag['id'])\n",
    "print(\"another-attribute\", tag['another-attribute'])\n",
    "\n",
    "# If we want to see all attributes, we can access them as a dictionary object:\n",
    "tag = soup.find_all('b')[2]\n",
    "print(tag)\n",
    "print(tag.attrs)\n",
    "\n",
    "print(tag)                 # These properties are mutable, and we can alter them in this manner.\n",
    "#tag['another-attribute']=2\n",
    "#print(tag)\n",
    "\n",
    "# We can also use Python's del command for lists to remove attributes:\n",
    "#del tag['id']\n",
    "#del tag['another-attribute']\n",
    "#print(tag)"
   ]
  },
  {
   "cell_type": "code",
   "execution_count": 9,
   "metadata": {},
   "outputs": [
    {
     "name": "stdout",
     "output_type": "stream",
     "text": [
      "<b another-attribute=\"1\" id=\"verybold\">Test 2</b>\n",
      "Test 2\n",
      "<b another-attribute=\"1\" id=\"verybold\">This is another string</b>\n"
     ]
    }
   ],
   "source": [
    "# Multi-valued Attributes\n",
    "tag = soup.find_all('b')[2]\n",
    "print(tag)\n",
    "print(tag.string)\n",
    "\n",
    "# We can use the \"replace_with\" function to replace\n",
    "# the content of the string with something different:\n",
    "tag.string.replace_with(\"This is another string\")\n",
    "print(tag)\n",
    "\n",
    "# NavigableString\n",
    "\n",
    "# BeautifulSoup\n",
    "\n",
    "# Comments\n"
   ]
  },
  {
   "cell_type": "code",
   "execution_count": null,
   "metadata": {},
   "outputs": [],
   "source": []
  }
 ],
 "metadata": {
  "kernelspec": {
   "display_name": "Python 3",
   "language": "python",
   "name": "python3"
  },
  "language_info": {
   "codemirror_mode": {
    "name": "ipython",
    "version": 3
   },
   "file_extension": ".py",
   "mimetype": "text/x-python",
   "name": "python",
   "nbconvert_exporter": "python",
   "pygments_lexer": "ipython3",
   "version": "3.7.1"
  }
 },
 "nbformat": 4,
 "nbformat_minor": 2
}
