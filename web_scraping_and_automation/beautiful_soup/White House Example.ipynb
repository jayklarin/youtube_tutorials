{
 "cells": [
  {
   "cell_type": "code",
   "execution_count": 1,
   "metadata": {},
   "outputs": [
    {
     "name": "stdout",
     "output_type": "stream",
     "text": [
      "['https://www.whitehouse.gov/briefings-statements/first-lady-melania-trump-unveils-2019-white-house-easter-egg-festivities/', 'https://www.whitehouse.gov/briefings-statements/statement-press-secretary-visit-prime-minister-japan-president-first-ladys-upcoming-travel-japan/', 'https://www.whitehouse.gov/briefings-statements/bill-announcement-31/', 'https://www.whitehouse.gov/briefings-statements/statement-vice-president-mike-pence-4/', 'https://www.whitehouse.gov/briefings-statements/remarks-president-trump-2019-wounded-warrior-project-soldier-ride/', 'https://www.whitehouse.gov/briefings-statements/remarks-vice-president-pence-tour-permian-basin-oil-field-diamondback-oil-rig/', 'https://www.whitehouse.gov/briefings-statements/president-donald-j-trump-approves-kentucky-disaster-declaration-3/', 'https://www.whitehouse.gov/briefings-statements/president-donald-j-trump-approves-tennessee-disaster-declaration-2/', 'https://www.whitehouse.gov/briefings-statements/president-donald-j-trump-approves-alabama-disaster-declaration-5/', 'https://www.whitehouse.gov/briefings-statements/remarks-president-trump-opportunity-zone-conference-state-local-tribal-community-leaders/']\n"
     ]
    }
   ],
   "source": [
    "# YouTube Link:\n",
    "\n",
    "# Let's obtain the links from the following website:\n",
    "# https://www.whitehouse.gov/briefings-statements/\n",
    "\n",
    "# One of the things this website consists of is records of presidential\n",
    "# briefings and statements.\n",
    "\n",
    "# Goal: Extract all of the links on the page that point to the \n",
    "# briefings and statements.\n",
    "\n",
    "import requests\n",
    "from bs4 import BeautifulSoup\n",
    "\n",
    "result = requests.get(\"https://www.whitehouse.gov/briefings-statements/\")\n",
    "src = result.content\n",
    "soup = BeautifulSoup(src, 'lxml')\n",
    "\n",
    "urls = []\n",
    "for h2_tag in soup.find_all('h2'):\n",
    "    a_tag = h2_tag.find('a')\n",
    "    urls.append(a_tag.attrs['href'])\n",
    "\n",
    "print(urls)"
   ]
  },
  {
   "cell_type": "code",
   "execution_count": 2,
   "metadata": {},
   "outputs": [
    {
     "data": {
      "text/plain": [
       "10"
      ]
     },
     "execution_count": 2,
     "metadata": {},
     "output_type": "execute_result"
    }
   ],
   "source": [
    "len(urls)"
   ]
  },
  {
   "cell_type": "code",
   "execution_count": null,
   "metadata": {},
   "outputs": [],
   "source": []
  }
 ],
 "metadata": {
  "kernelspec": {
   "display_name": "Python 3",
   "language": "python",
   "name": "python3"
  },
  "language_info": {
   "codemirror_mode": {
    "name": "ipython",
    "version": 3
   },
   "file_extension": ".py",
   "mimetype": "text/x-python",
   "name": "python",
   "nbconvert_exporter": "python",
   "pygments_lexer": "ipython3",
   "version": "3.7.1"
  }
 },
 "nbformat": 4,
 "nbformat_minor": 2
}
